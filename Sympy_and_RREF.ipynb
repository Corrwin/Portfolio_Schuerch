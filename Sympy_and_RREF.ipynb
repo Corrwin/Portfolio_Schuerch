{
  "nbformat": 4,
  "nbformat_minor": 0,
  "metadata": {
    "colab": {
      "provenance": [],
      "include_colab_link": true
    },
    "kernelspec": {
      "name": "python3",
      "display_name": "Python 3"
    },
    "language_info": {
      "name": "python"
    }
  },
  "cells": [
    {
      "cell_type": "markdown",
      "metadata": {
        "id": "view-in-github",
        "colab_type": "text"
      },
      "source": [
        "<a href=\"https://colab.research.google.com/github/Corrwin/Portfolio_Schuerch/blob/main/Sympy_and_RREF.ipynb\" target=\"_parent\"><img src=\"https://colab.research.google.com/assets/colab-badge.svg\" alt=\"Open In Colab\"/></a>"
      ]
    },
    {
      "cell_type": "code",
      "execution_count": null,
      "metadata": {
        "colab": {
          "base_uri": "https://localhost:8080/"
        },
        "id": "Z0lDsiqfLuFL",
        "outputId": "5e1036ac-e9ee-48b2-899b-eafdabc86595"
      },
      "outputs": [
        {
          "output_type": "stream",
          "name": "stdout",
          "text": [
            "⎡1   -1  0   1   1  -1  -1  -1⎤\n",
            "⎢                             ⎥\n",
            "⎢-1  1   1   -1  1  -1  -1  1 ⎥\n",
            "⎢                             ⎥\n",
            "⎢0   1   -1  1   1  -1  0   -1⎥\n",
            "⎢                             ⎥\n",
            "⎣0   -1  1   -1  0  -1  0   1 ⎦\n",
            "\n",
            "⎡1  0  0  2  0  4   -3  -2⎤\n",
            "⎢                         ⎥\n",
            "⎢0  1  0  1  0  3   -2  -1⎥\n",
            "⎢                         ⎥\n",
            "⎢0  0  1  0  0  2   -2  0 ⎥\n",
            "⎢                         ⎥\n",
            "⎣0  0  0  0  1  -2  0   0 ⎦\n"
          ]
        }
      ],
      "source": [
        "import sympy as sp\n",
        "from sympy import randMatrix\n",
        "A=randMatrix(4,8,-1,1) # (# of rows, # of columns, minimum entry, maximum entry)\n",
        "sp.pprint(A) # this command prints the matrix in a \"pretty\" format\n",
        "print()\n",
        "sp.pprint(A.rref()[0])"
      ]
    },
    {
      "cell_type": "markdown",
      "source": [
        "1. Create a random 3x4 matrix with integer entries ranging from -1 to 1."
      ],
      "metadata": {
        "id": "mzaEiHCfMVZR"
      }
    },
    {
      "cell_type": "code",
      "source": [],
      "metadata": {
        "id": "T7vg-8asMmni"
      },
      "execution_count": null,
      "outputs": []
    },
    {
      "cell_type": "markdown",
      "source": [
        "2. If we consider your random 3x4 matrix to be an augmented matrix, write down on a separate sheet of paper the corresponding system of linear equations."
      ],
      "metadata": {
        "id": "51VFtysTMuaE"
      }
    },
    {
      "cell_type": "markdown",
      "source": [
        "3.  Use the method .rref() to find row reduce the augmented matrix.  If your matrix is called A, then use the command sp.pprint(A.rref())."
      ],
      "metadata": {
        "id": "C4yMJgztNT37"
      }
    },
    {
      "cell_type": "code",
      "source": [
        "import sympy as sp\n",
        "A=sp.Matrix([[1,1,2],[1,2,3],[1,3,4]])\n",
        "sp.pprint(A)\n",
        "print()\n",
        "sp.pprint(A.rref())\n"
      ],
      "metadata": {
        "id": "g9wcH0eQNS27",
        "colab": {
          "base_uri": "https://localhost:8080/"
        },
        "outputId": "6a96d858-5134-4ce0-f97c-99bdde8a8d64"
      },
      "execution_count": null,
      "outputs": [
        {
          "output_type": "stream",
          "name": "stdout",
          "text": [
            "⎡1  1  2⎤\n",
            "⎢       ⎥\n",
            "⎢1  2  3⎥\n",
            "⎢       ⎥\n",
            "⎣1  3  4⎦\n",
            "\n",
            "⎛⎡1  0  1⎤        ⎞\n",
            "⎜⎢       ⎥        ⎟\n",
            "⎜⎢0  1  1⎥, (0, 1)⎟\n",
            "⎜⎢       ⎥        ⎟\n",
            "⎝⎣0  0  0⎦        ⎠\n"
          ]
        }
      ]
    },
    {
      "cell_type": "markdown",
      "source": [
        "4.  Try to row reduce your matrix by hand and compare your answer with Python's answer."
      ],
      "metadata": {
        "id": "EmPXMqKvNoyh"
      }
    },
    {
      "cell_type": "markdown",
      "source": [
        "5.  Is the linear system consistent?  Is there a unique solution or many solutions?"
      ],
      "metadata": {
        "id": "SM1bRFj8N8W9"
      }
    },
    {
      "cell_type": "code",
      "source": [
        "\n"
      ],
      "metadata": {
        "id": "CG1A4I6W-X9F"
      },
      "execution_count": null,
      "outputs": []
    },
    {
      "cell_type": "code",
      "source": [
        "import sympy as sp\n",
        "A=sp.Matrix([[1,1,1,4],[5,1,2,3],[4,-1,6,2]])\n",
        "sp.pprint(A)\n"
      ],
      "metadata": {
        "id": "mCN7pNH7-65r",
        "colab": {
          "base_uri": "https://localhost:8080/"
        },
        "outputId": "e54fb562-6851-4939-d5e5-281a1a8bd4fe"
      },
      "execution_count": null,
      "outputs": [
        {
          "output_type": "stream",
          "name": "stdout",
          "text": [
            "⎡1  1   1  4⎤\n",
            "⎢           ⎥\n",
            "⎢5  1   2  3⎥\n",
            "⎢           ⎥\n",
            "⎣4  -1  6  2⎦\n"
          ]
        }
      ]
    },
    {
      "cell_type": "code",
      "source": [
        "A.rref()\n"
      ],
      "metadata": {
        "colab": {
          "base_uri": "https://localhost:8080/"
        },
        "id": "f35gTMXrBpBW",
        "outputId": "8063b737-15ff-45b3-907a-90507bf89851"
      },
      "execution_count": null,
      "outputs": [
        {
          "output_type": "execute_result",
          "data": {
            "text/plain": [
              "(Matrix([\n",
              " [1, 0, 0, -13/23],\n",
              " [0, 1, 0,  76/23],\n",
              " [0, 0, 1,  29/23]]), (0, 1, 2))"
            ]
          },
          "metadata": {},
          "execution_count": 4
        }
      ]
    },
    {
      "cell_type": "code",
      "source": [
        "import sympy as sp\n",
        "from sympy import randMatrix\n",
        "A=randMatrix(4,10,-2,2) # (# of rows, # of columns, minimum entry, maximum entry)\n",
        "sp.pprint(A) # this command prints the matrix in a \"pretty\" format\n",
        "print()\n",
        "sp.pprint(A.rref())"
      ],
      "metadata": {
        "id": "0xjILASqB0tN",
        "colab": {
          "base_uri": "https://localhost:8080/"
        },
        "outputId": "0c1c7027-8b4e-402c-ae80-f92b25e9d10e"
      },
      "execution_count": null,
      "outputs": [
        {
          "output_type": "stream",
          "name": "stdout",
          "text": [
            "⎡1   1   0   0  1   1   2   1   1   0 ⎤\n",
            "⎢                                     ⎥\n",
            "⎢1   1   2   2  -2  -1  -1  0   -2  2 ⎥\n",
            "⎢                                     ⎥\n",
            "⎢-1  -2  -1  1  1   1   0   -1  1   -1⎥\n",
            "⎢                                     ⎥\n",
            "⎣-1  -1  0   0  2   1   -2  1   -2  0 ⎦\n",
            "\n",
            "⎛⎡1  0  0  2   0   1    5/2   -1/2   2    0⎤              ⎞\n",
            "⎜⎢                                         ⎥              ⎟\n",
            "⎜⎢0  1  0  -2  0  -2/3  -1/2  5/6   -2/3  0⎥              ⎟\n",
            "⎜⎢                                         ⎥, (0, 1, 2, 4)⎟\n",
            "⎜⎢0  0  1  1   0   0    -3/2  1/2    -2   1⎥              ⎟\n",
            "⎜⎢                                         ⎥              ⎟\n",
            "⎝⎣0  0  0  0   1  2/3    0    2/3   -1/3  0⎦              ⎠\n"
          ]
        }
      ]
    },
    {
      "cell_type": "code",
      "source": [
        "  import sympy as sp\n",
        "from sympy import randMatrix\n",
        "A=randMatrix(6,15,-2,2) # (# of rows, # of columns, minimum entry, maximum entry)\n",
        "sp.pprint(A) # this command prints the matrix in a \"pretty\" format\n",
        "sp.pprint(A.rref())"
      ],
      "metadata": {
        "colab": {
          "base_uri": "https://localhost:8080/"
        },
        "id": "AVWpkLMa9hbL",
        "outputId": "0dad2bf6-32f6-4855-a7e9-8dcd893ec65c"
      },
      "execution_count": null,
      "outputs": [
        {
          "output_type": "stream",
          "name": "stdout",
          "text": [
            "⎡0  -1  0   -1  -2  -2  -2  -1  1  1   -2  1   0   -2  2 ⎤\n",
            "⎢                                                        ⎥\n",
            "⎢2  -2  0   -2  2   2   -2  1   1  2   0   1   -2  -1  1 ⎥\n",
            "⎢                                                        ⎥\n",
            "⎢2  -2  -2  1   -1  2   0   2   1  2   1   2   2   2   -2⎥\n",
            "⎢                                                        ⎥\n",
            "⎢1  -1  2   0   0   0   0   -1  1  0   1   0   2   2   0 ⎥\n",
            "⎢                                                        ⎥\n",
            "⎢1  0   0   2   -2  0   1   0   2  -1  -2  1   -2  2   -2⎥\n",
            "⎢                                                        ⎥\n",
            "⎣2  2   1   -1  -1  -1  -2  -2  2  -1  -2  -1  2   2   1 ⎦\n",
            "⎛⎡1  0  0  0  0  0  -17/7  12/7  76/7   -39/7  -28  43/7   -394/7  -114/7   6/\n",
            "⎜⎢                                                                            \n",
            "⎜⎢0  1  0  0  0  0   5/7   -6/7  -24/7   9/7    9   -18/7  134/7    43/7   -3/\n",
            "⎜⎢                                                                            \n",
            "⎜⎢                         -25   -93                -61             171       \n",
            "⎜⎢0  0  1  0  0  0  11/7   ────  ────   24/7   19   ────   271/7    ───    -9/\n",
            "⎜⎢                          14    14                 14              14       \n",
            "⎜⎢                                                                            \n",
            "⎜⎢0  0  0  1  0  0   -1     2     10     -6    -27    6     -56     -16      0\n",
            "⎜⎢                                                                            \n",
            "⎜⎢0  0  0  0  1  0  -19/7  20/7  101/7  -58/7  -40  60/7   -582/7  -176/7  10/\n",
            "⎜⎢                                                                            \n",
            "⎜⎢                         -41   -255               -151            435    -31\n",
            "⎜⎢0  0  0  0  0  1  27/7   ────  ─────  71/7   50   ─────  711/7    ───    ───\n",
            "⎝⎣                          14     14                 14             14     14\n",
            "\n",
            "7 ⎤                    ⎞\n",
            "  ⎥                    ⎟\n",
            "7 ⎥                    ⎟\n",
            "  ⎥                    ⎟\n",
            "  ⎥                    ⎟\n",
            "14⎥                    ⎟\n",
            "  ⎥                    ⎟\n",
            "  ⎥, (0, 1, 2, 3, 4, 5)⎟\n",
            "  ⎥                    ⎟\n",
            "  ⎥                    ⎟\n",
            "7 ⎥                    ⎟\n",
            "  ⎥                    ⎟\n",
            "  ⎥                    ⎟\n",
            "─ ⎥                    ⎟\n",
            "  ⎦                    ⎠\n"
          ]
        }
      ]
    },
    {
      "cell_type": "code",
      "source": [
        "import sympy as sy\n",
        "A = sy.Matrix([[2,1,4,1,0],[1,3,1,0,1]])\n",
        "sy.pprint(A)\n",
        "print()\n",
        "sy.pprint(A.rref())"
      ],
      "metadata": {
        "id": "bGMafiOL90XE",
        "colab": {
          "base_uri": "https://localhost:8080/"
        },
        "outputId": "efe8df4b-5e90-4b4d-d936-1c0ff722a9b4"
      },
      "execution_count": null,
      "outputs": [
        {
          "output_type": "stream",
          "name": "stdout",
          "text": [
            "⎡2  1  4  1  0⎤\n",
            "⎢             ⎥\n",
            "⎣1  3  1  0  1⎦\n",
            "\n",
            "⎛⎡1  0  11/5  3/5   -1/5⎤        ⎞\n",
            "⎜⎢                      ⎥, (0, 1)⎟\n",
            "⎝⎣0  1  -2/5  -1/5  2/5 ⎦        ⎠\n"
          ]
        }
      ]
    },
    {
      "cell_type": "code",
      "source": [
        "import numpy as np\n",
        "A=np.array([[1/3,1/3],[.333333333333333334,1/3]])\n",
        "B=np.linalg.inv(A)\n",
        "print(A@B)\n"
      ],
      "metadata": {
        "id": "Wq7zcKSwcpeu",
        "colab": {
          "base_uri": "https://localhost:8080/",
          "height": 381
        },
        "outputId": "485d933d-dc21-495d-84d8-7c890d739943"
      },
      "execution_count": null,
      "outputs": [
        {
          "output_type": "error",
          "ename": "LinAlgError",
          "evalue": "Singular matrix",
          "traceback": [
            "\u001b[0;31m---------------------------------------------------------------------------\u001b[0m",
            "\u001b[0;31mLinAlgError\u001b[0m                               Traceback (most recent call last)",
            "\u001b[0;32m<ipython-input-10-afc4712a7ea9>\u001b[0m in \u001b[0;36m<cell line: 3>\u001b[0;34m()\u001b[0m\n\u001b[1;32m      1\u001b[0m \u001b[0;32mimport\u001b[0m \u001b[0mnumpy\u001b[0m \u001b[0;32mas\u001b[0m \u001b[0mnp\u001b[0m\u001b[0;34m\u001b[0m\u001b[0;34m\u001b[0m\u001b[0m\n\u001b[1;32m      2\u001b[0m \u001b[0mA\u001b[0m\u001b[0;34m=\u001b[0m\u001b[0mnp\u001b[0m\u001b[0;34m.\u001b[0m\u001b[0marray\u001b[0m\u001b[0;34m(\u001b[0m\u001b[0;34m[\u001b[0m\u001b[0;34m[\u001b[0m\u001b[0;36m1\u001b[0m\u001b[0;34m/\u001b[0m\u001b[0;36m3\u001b[0m\u001b[0;34m,\u001b[0m\u001b[0;36m1\u001b[0m\u001b[0;34m/\u001b[0m\u001b[0;36m3\u001b[0m\u001b[0;34m]\u001b[0m\u001b[0;34m,\u001b[0m\u001b[0;34m[\u001b[0m\u001b[0;36m.333333333333333334\u001b[0m\u001b[0;34m,\u001b[0m\u001b[0;36m1\u001b[0m\u001b[0;34m/\u001b[0m\u001b[0;36m3\u001b[0m\u001b[0;34m]\u001b[0m\u001b[0;34m]\u001b[0m\u001b[0;34m)\u001b[0m\u001b[0;34m\u001b[0m\u001b[0;34m\u001b[0m\u001b[0m\n\u001b[0;32m----> 3\u001b[0;31m \u001b[0mB\u001b[0m\u001b[0;34m=\u001b[0m\u001b[0mnp\u001b[0m\u001b[0;34m.\u001b[0m\u001b[0mlinalg\u001b[0m\u001b[0;34m.\u001b[0m\u001b[0minv\u001b[0m\u001b[0;34m(\u001b[0m\u001b[0mA\u001b[0m\u001b[0;34m)\u001b[0m\u001b[0;34m\u001b[0m\u001b[0;34m\u001b[0m\u001b[0m\n\u001b[0m\u001b[1;32m      4\u001b[0m \u001b[0mprint\u001b[0m\u001b[0;34m(\u001b[0m\u001b[0mA\u001b[0m\u001b[0;34m@\u001b[0m\u001b[0mB\u001b[0m\u001b[0;34m)\u001b[0m\u001b[0;34m\u001b[0m\u001b[0;34m\u001b[0m\u001b[0m\n",
            "\u001b[0;32m/usr/local/lib/python3.10/dist-packages/numpy/core/overrides.py\u001b[0m in \u001b[0;36minv\u001b[0;34m(*args, **kwargs)\u001b[0m\n",
            "\u001b[0;32m/usr/local/lib/python3.10/dist-packages/numpy/linalg/linalg.py\u001b[0m in \u001b[0;36minv\u001b[0;34m(a)\u001b[0m\n\u001b[1;32m    550\u001b[0m     \u001b[0msignature\u001b[0m \u001b[0;34m=\u001b[0m \u001b[0;34m'D->D'\u001b[0m \u001b[0;32mif\u001b[0m \u001b[0misComplexType\u001b[0m\u001b[0;34m(\u001b[0m\u001b[0mt\u001b[0m\u001b[0;34m)\u001b[0m \u001b[0;32melse\u001b[0m \u001b[0;34m'd->d'\u001b[0m\u001b[0;34m\u001b[0m\u001b[0;34m\u001b[0m\u001b[0m\n\u001b[1;32m    551\u001b[0m     \u001b[0mextobj\u001b[0m \u001b[0;34m=\u001b[0m \u001b[0mget_linalg_error_extobj\u001b[0m\u001b[0;34m(\u001b[0m\u001b[0m_raise_linalgerror_singular\u001b[0m\u001b[0;34m)\u001b[0m\u001b[0;34m\u001b[0m\u001b[0;34m\u001b[0m\u001b[0m\n\u001b[0;32m--> 552\u001b[0;31m     \u001b[0mainv\u001b[0m \u001b[0;34m=\u001b[0m \u001b[0m_umath_linalg\u001b[0m\u001b[0;34m.\u001b[0m\u001b[0minv\u001b[0m\u001b[0;34m(\u001b[0m\u001b[0ma\u001b[0m\u001b[0;34m,\u001b[0m \u001b[0msignature\u001b[0m\u001b[0;34m=\u001b[0m\u001b[0msignature\u001b[0m\u001b[0;34m,\u001b[0m \u001b[0mextobj\u001b[0m\u001b[0;34m=\u001b[0m\u001b[0mextobj\u001b[0m\u001b[0;34m)\u001b[0m\u001b[0;34m\u001b[0m\u001b[0;34m\u001b[0m\u001b[0m\n\u001b[0m\u001b[1;32m    553\u001b[0m     \u001b[0;32mreturn\u001b[0m \u001b[0mwrap\u001b[0m\u001b[0;34m(\u001b[0m\u001b[0mainv\u001b[0m\u001b[0;34m.\u001b[0m\u001b[0mastype\u001b[0m\u001b[0;34m(\u001b[0m\u001b[0mresult_t\u001b[0m\u001b[0;34m,\u001b[0m \u001b[0mcopy\u001b[0m\u001b[0;34m=\u001b[0m\u001b[0;32mFalse\u001b[0m\u001b[0;34m)\u001b[0m\u001b[0;34m)\u001b[0m\u001b[0;34m\u001b[0m\u001b[0;34m\u001b[0m\u001b[0m\n\u001b[1;32m    554\u001b[0m \u001b[0;34m\u001b[0m\u001b[0m\n",
            "\u001b[0;32m/usr/local/lib/python3.10/dist-packages/numpy/linalg/linalg.py\u001b[0m in \u001b[0;36m_raise_linalgerror_singular\u001b[0;34m(err, flag)\u001b[0m\n\u001b[1;32m     87\u001b[0m \u001b[0;34m\u001b[0m\u001b[0m\n\u001b[1;32m     88\u001b[0m \u001b[0;32mdef\u001b[0m \u001b[0m_raise_linalgerror_singular\u001b[0m\u001b[0;34m(\u001b[0m\u001b[0merr\u001b[0m\u001b[0;34m,\u001b[0m \u001b[0mflag\u001b[0m\u001b[0;34m)\u001b[0m\u001b[0;34m:\u001b[0m\u001b[0;34m\u001b[0m\u001b[0;34m\u001b[0m\u001b[0m\n\u001b[0;32m---> 89\u001b[0;31m     \u001b[0;32mraise\u001b[0m \u001b[0mLinAlgError\u001b[0m\u001b[0;34m(\u001b[0m\u001b[0;34m\"Singular matrix\"\u001b[0m\u001b[0;34m)\u001b[0m\u001b[0;34m\u001b[0m\u001b[0;34m\u001b[0m\u001b[0m\n\u001b[0m\u001b[1;32m     90\u001b[0m \u001b[0;34m\u001b[0m\u001b[0m\n\u001b[1;32m     91\u001b[0m \u001b[0;32mdef\u001b[0m \u001b[0m_raise_linalgerror_nonposdef\u001b[0m\u001b[0;34m(\u001b[0m\u001b[0merr\u001b[0m\u001b[0;34m,\u001b[0m \u001b[0mflag\u001b[0m\u001b[0;34m)\u001b[0m\u001b[0;34m:\u001b[0m\u001b[0;34m\u001b[0m\u001b[0;34m\u001b[0m\u001b[0m\n",
            "\u001b[0;31mLinAlgError\u001b[0m: Singular matrix"
          ]
        }
      ]
    },
    {
      "cell_type": "code",
      "source": [
        "a = 1/3\n",
        "print(a-.33333333333333334)"
      ],
      "metadata": {
        "id": "ic1Nm4VQHqAn",
        "colab": {
          "base_uri": "https://localhost:8080/"
        },
        "outputId": "98851624-6abd-4fb8-8118-8382b6335e9c"
      },
      "execution_count": null,
      "outputs": [
        {
          "output_type": "stream",
          "name": "stdout",
          "text": [
            "0.0\n"
          ]
        }
      ]
    },
    {
      "cell_type": "code",
      "source": [
        "# prompt: create code to row reduce a matrix\n",
        "\n",
        "import sympy as sp\n",
        "\n",
        "# Example usage:\n",
        "A = sp.Matrix([[1, 2, 3], [4, 5, 6], [7, 8, 9]])\n",
        "sp.pprint(A)\n",
        "\n",
        "# Perform row reduction\n",
        "row_reduced_A, pivots = A.rref()\n",
        "\n",
        "print(\"\\nRow Reduced Matrix:\")\n",
        "sp.pprint(row_reduced_A)\n",
        "\n",
        "print(\"\\nPivots:\", pivots)\n"
      ],
      "metadata": {
        "id": "RxpF26ALNHUM",
        "colab": {
          "base_uri": "https://localhost:8080/"
        },
        "outputId": "1caf103d-a550-4f59-ddb6-6bca42eb211f"
      },
      "execution_count": null,
      "outputs": [
        {
          "output_type": "stream",
          "name": "stdout",
          "text": [
            "⎡1  2  3⎤\n",
            "⎢       ⎥\n",
            "⎢4  5  6⎥\n",
            "⎢       ⎥\n",
            "⎣7  8  9⎦\n",
            "\n",
            "Row Reduced Matrix:\n",
            "⎡1  0  -1⎤\n",
            "⎢        ⎥\n",
            "⎢0  1  2 ⎥\n",
            "⎢        ⎥\n",
            "⎣0  0  0 ⎦\n",
            "\n",
            "Pivots: (0, 1)\n"
          ]
        }
      ]
    }
  ]
}